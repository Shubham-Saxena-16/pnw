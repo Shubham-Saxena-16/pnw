{
  "cells": [
    {
      "cell_type": "markdown",
      "metadata": {
        "id": "view-in-github",
        "colab_type": "text"
      },
      "source": [
        "<a href=\"https://colab.research.google.com/github/Shubham-Saxena-16/pnw/blob/main/Next_Word_Prediction.ipynb\" target=\"_parent\"><img src=\"https://colab.research.google.com/assets/colab-badge.svg\" alt=\"Open In Colab\"/></a>"
      ]
    },
    {
      "cell_type": "markdown",
      "metadata": {
        "id": "ZMwY4EDsCyiS"
      },
      "source": [
        "# Next Word Prediction using NLTK"
      ]
    },
    {
      "cell_type": "markdown",
      "source": [
        "#### Basic Setup"
      ],
      "metadata": {
        "id": "7bvCfIjJp2kc"
      }
    },
    {
      "cell_type": "code",
      "execution_count": null,
      "metadata": {
        "colab": {
          "base_uri": "https://localhost:8080/"
        },
        "id": "H9tI6d9ZCRSO",
        "outputId": "3233dc3d-8311-4c0d-e0de-d1d838c52ff7"
      },
      "outputs": [
        {
          "output_type": "stream",
          "name": "stdout",
          "text": [
            "Requirement already satisfied: nltk in /usr/local/lib/python3.10/dist-packages (3.8.1)\n",
            "Requirement already satisfied: click in /usr/local/lib/python3.10/dist-packages (from nltk) (8.1.7)\n",
            "Requirement already satisfied: joblib in /usr/local/lib/python3.10/dist-packages (from nltk) (1.4.2)\n",
            "Requirement already satisfied: regex>=2021.8.3 in /usr/local/lib/python3.10/dist-packages (from nltk) (2024.5.15)\n",
            "Requirement already satisfied: tqdm in /usr/local/lib/python3.10/dist-packages (from nltk) (4.66.4)\n"
          ]
        },
        {
          "output_type": "stream",
          "name": "stderr",
          "text": [
            "[nltk_data] Downloading collection 'all'\n",
            "[nltk_data]    | \n",
            "[nltk_data]    | Downloading package abc to /root/nltk_data...\n",
            "[nltk_data]    |   Unzipping corpora/abc.zip.\n",
            "[nltk_data]    | Downloading package alpino to /root/nltk_data...\n",
            "[nltk_data]    |   Unzipping corpora/alpino.zip.\n",
            "[nltk_data]    | Downloading package averaged_perceptron_tagger to\n",
            "[nltk_data]    |     /root/nltk_data...\n",
            "[nltk_data]    |   Unzipping taggers/averaged_perceptron_tagger.zip.\n",
            "[nltk_data]    | Downloading package averaged_perceptron_tagger_ru to\n",
            "[nltk_data]    |     /root/nltk_data...\n",
            "[nltk_data]    |   Unzipping\n",
            "[nltk_data]    |       taggers/averaged_perceptron_tagger_ru.zip.\n",
            "[nltk_data]    | Downloading package basque_grammars to\n",
            "[nltk_data]    |     /root/nltk_data...\n",
            "[nltk_data]    |   Unzipping grammars/basque_grammars.zip.\n",
            "[nltk_data]    | Downloading package bcp47 to /root/nltk_data...\n",
            "[nltk_data]    | Downloading package biocreative_ppi to\n",
            "[nltk_data]    |     /root/nltk_data...\n",
            "[nltk_data]    |   Unzipping corpora/biocreative_ppi.zip.\n",
            "[nltk_data]    | Downloading package bllip_wsj_no_aux to\n",
            "[nltk_data]    |     /root/nltk_data...\n",
            "[nltk_data]    |   Unzipping models/bllip_wsj_no_aux.zip.\n",
            "[nltk_data]    | Downloading package book_grammars to\n",
            "[nltk_data]    |     /root/nltk_data...\n",
            "[nltk_data]    |   Unzipping grammars/book_grammars.zip.\n",
            "[nltk_data]    | Downloading package brown to /root/nltk_data...\n",
            "[nltk_data]    |   Unzipping corpora/brown.zip.\n",
            "[nltk_data]    | Downloading package brown_tei to /root/nltk_data...\n",
            "[nltk_data]    |   Unzipping corpora/brown_tei.zip.\n",
            "[nltk_data]    | Downloading package cess_cat to /root/nltk_data...\n",
            "[nltk_data]    |   Unzipping corpora/cess_cat.zip.\n",
            "[nltk_data]    | Downloading package cess_esp to /root/nltk_data...\n",
            "[nltk_data]    |   Unzipping corpora/cess_esp.zip.\n",
            "[nltk_data]    | Downloading package chat80 to /root/nltk_data...\n",
            "[nltk_data]    |   Unzipping corpora/chat80.zip.\n",
            "[nltk_data]    | Downloading package city_database to\n",
            "[nltk_data]    |     /root/nltk_data...\n",
            "[nltk_data]    |   Unzipping corpora/city_database.zip.\n",
            "[nltk_data]    | Downloading package cmudict to /root/nltk_data...\n",
            "[nltk_data]    |   Unzipping corpora/cmudict.zip.\n",
            "[nltk_data]    | Downloading package comparative_sentences to\n",
            "[nltk_data]    |     /root/nltk_data...\n",
            "[nltk_data]    |   Unzipping corpora/comparative_sentences.zip.\n",
            "[nltk_data]    | Downloading package comtrans to /root/nltk_data...\n",
            "[nltk_data]    | Downloading package conll2000 to /root/nltk_data...\n",
            "[nltk_data]    |   Unzipping corpora/conll2000.zip.\n",
            "[nltk_data]    | Downloading package conll2002 to /root/nltk_data...\n",
            "[nltk_data]    |   Unzipping corpora/conll2002.zip.\n",
            "[nltk_data]    | Downloading package conll2007 to /root/nltk_data...\n",
            "[nltk_data]    | Downloading package crubadan to /root/nltk_data...\n",
            "[nltk_data]    |   Unzipping corpora/crubadan.zip.\n",
            "[nltk_data]    | Downloading package dependency_treebank to\n",
            "[nltk_data]    |     /root/nltk_data...\n",
            "[nltk_data]    |   Unzipping corpora/dependency_treebank.zip.\n",
            "[nltk_data]    | Downloading package dolch to /root/nltk_data...\n",
            "[nltk_data]    |   Unzipping corpora/dolch.zip.\n",
            "[nltk_data]    | Downloading package europarl_raw to\n",
            "[nltk_data]    |     /root/nltk_data...\n",
            "[nltk_data]    |   Unzipping corpora/europarl_raw.zip.\n",
            "[nltk_data]    | Downloading package extended_omw to\n",
            "[nltk_data]    |     /root/nltk_data...\n",
            "[nltk_data]    | Downloading package floresta to /root/nltk_data...\n",
            "[nltk_data]    |   Unzipping corpora/floresta.zip.\n",
            "[nltk_data]    | Downloading package framenet_v15 to\n",
            "[nltk_data]    |     /root/nltk_data...\n",
            "[nltk_data]    |   Unzipping corpora/framenet_v15.zip.\n",
            "[nltk_data]    | Downloading package framenet_v17 to\n",
            "[nltk_data]    |     /root/nltk_data...\n",
            "[nltk_data]    |   Unzipping corpora/framenet_v17.zip.\n",
            "[nltk_data]    | Downloading package gazetteers to /root/nltk_data...\n",
            "[nltk_data]    |   Unzipping corpora/gazetteers.zip.\n",
            "[nltk_data]    | Downloading package genesis to /root/nltk_data...\n",
            "[nltk_data]    |   Unzipping corpora/genesis.zip.\n",
            "[nltk_data]    | Downloading package gutenberg to /root/nltk_data...\n",
            "[nltk_data]    |   Unzipping corpora/gutenberg.zip.\n",
            "[nltk_data]    | Downloading package ieer to /root/nltk_data...\n",
            "[nltk_data]    |   Unzipping corpora/ieer.zip.\n",
            "[nltk_data]    | Downloading package inaugural to /root/nltk_data...\n",
            "[nltk_data]    |   Unzipping corpora/inaugural.zip.\n",
            "[nltk_data]    | Downloading package indian to /root/nltk_data...\n",
            "[nltk_data]    |   Unzipping corpora/indian.zip.\n",
            "[nltk_data]    | Downloading package jeita to /root/nltk_data...\n",
            "[nltk_data]    | Downloading package kimmo to /root/nltk_data...\n",
            "[nltk_data]    |   Unzipping corpora/kimmo.zip.\n",
            "[nltk_data]    | Downloading package knbc to /root/nltk_data...\n",
            "[nltk_data]    | Downloading package large_grammars to\n",
            "[nltk_data]    |     /root/nltk_data...\n",
            "[nltk_data]    |   Unzipping grammars/large_grammars.zip.\n",
            "[nltk_data]    | Downloading package lin_thesaurus to\n",
            "[nltk_data]    |     /root/nltk_data...\n",
            "[nltk_data]    |   Unzipping corpora/lin_thesaurus.zip.\n",
            "[nltk_data]    | Downloading package mac_morpho to /root/nltk_data...\n",
            "[nltk_data]    |   Unzipping corpora/mac_morpho.zip.\n",
            "[nltk_data]    | Downloading package machado to /root/nltk_data...\n",
            "[nltk_data]    | Downloading package masc_tagged to /root/nltk_data...\n",
            "[nltk_data]    | Downloading package maxent_ne_chunker to\n",
            "[nltk_data]    |     /root/nltk_data...\n",
            "[nltk_data]    |   Unzipping chunkers/maxent_ne_chunker.zip.\n",
            "[nltk_data]    | Downloading package maxent_treebank_pos_tagger to\n",
            "[nltk_data]    |     /root/nltk_data...\n",
            "[nltk_data]    |   Unzipping taggers/maxent_treebank_pos_tagger.zip.\n",
            "[nltk_data]    | Downloading package moses_sample to\n",
            "[nltk_data]    |     /root/nltk_data...\n",
            "[nltk_data]    |   Unzipping models/moses_sample.zip.\n",
            "[nltk_data]    | Downloading package movie_reviews to\n",
            "[nltk_data]    |     /root/nltk_data...\n",
            "[nltk_data]    |   Unzipping corpora/movie_reviews.zip.\n",
            "[nltk_data]    | Downloading package mte_teip5 to /root/nltk_data...\n",
            "[nltk_data]    |   Unzipping corpora/mte_teip5.zip.\n",
            "[nltk_data]    | Downloading package mwa_ppdb to /root/nltk_data...\n",
            "[nltk_data]    |   Unzipping misc/mwa_ppdb.zip.\n",
            "[nltk_data]    | Downloading package names to /root/nltk_data...\n",
            "[nltk_data]    |   Unzipping corpora/names.zip.\n",
            "[nltk_data]    | Downloading package nombank.1.0 to /root/nltk_data...\n",
            "[nltk_data]    | Downloading package nonbreaking_prefixes to\n",
            "[nltk_data]    |     /root/nltk_data...\n",
            "[nltk_data]    |   Unzipping corpora/nonbreaking_prefixes.zip.\n",
            "[nltk_data]    | Downloading package nps_chat to /root/nltk_data...\n",
            "[nltk_data]    |   Unzipping corpora/nps_chat.zip.\n",
            "[nltk_data]    | Downloading package omw to /root/nltk_data...\n",
            "[nltk_data]    | Downloading package omw-1.4 to /root/nltk_data...\n",
            "[nltk_data]    | Downloading package opinion_lexicon to\n",
            "[nltk_data]    |     /root/nltk_data...\n",
            "[nltk_data]    |   Unzipping corpora/opinion_lexicon.zip.\n",
            "[nltk_data]    | Downloading package panlex_swadesh to\n",
            "[nltk_data]    |     /root/nltk_data...\n",
            "[nltk_data]    | Downloading package paradigms to /root/nltk_data...\n",
            "[nltk_data]    |   Unzipping corpora/paradigms.zip.\n",
            "[nltk_data]    | Downloading package pe08 to /root/nltk_data...\n",
            "[nltk_data]    |   Unzipping corpora/pe08.zip.\n",
            "[nltk_data]    | Downloading package perluniprops to\n",
            "[nltk_data]    |     /root/nltk_data...\n",
            "[nltk_data]    |   Unzipping misc/perluniprops.zip.\n",
            "[nltk_data]    | Downloading package pil to /root/nltk_data...\n",
            "[nltk_data]    |   Unzipping corpora/pil.zip.\n",
            "[nltk_data]    | Downloading package pl196x to /root/nltk_data...\n",
            "[nltk_data]    |   Unzipping corpora/pl196x.zip.\n",
            "[nltk_data]    | Downloading package porter_test to /root/nltk_data...\n",
            "[nltk_data]    |   Unzipping stemmers/porter_test.zip.\n",
            "[nltk_data]    | Downloading package ppattach to /root/nltk_data...\n",
            "[nltk_data]    |   Unzipping corpora/ppattach.zip.\n",
            "[nltk_data]    | Downloading package problem_reports to\n",
            "[nltk_data]    |     /root/nltk_data...\n",
            "[nltk_data]    |   Unzipping corpora/problem_reports.zip.\n",
            "[nltk_data]    | Downloading package product_reviews_1 to\n",
            "[nltk_data]    |     /root/nltk_data...\n",
            "[nltk_data]    |   Unzipping corpora/product_reviews_1.zip.\n",
            "[nltk_data]    | Downloading package product_reviews_2 to\n",
            "[nltk_data]    |     /root/nltk_data...\n",
            "[nltk_data]    |   Unzipping corpora/product_reviews_2.zip.\n",
            "[nltk_data]    | Downloading package propbank to /root/nltk_data...\n",
            "[nltk_data]    | Downloading package pros_cons to /root/nltk_data...\n",
            "[nltk_data]    |   Unzipping corpora/pros_cons.zip.\n",
            "[nltk_data]    | Downloading package ptb to /root/nltk_data...\n",
            "[nltk_data]    |   Unzipping corpora/ptb.zip.\n",
            "[nltk_data]    | Downloading package punkt to /root/nltk_data...\n",
            "[nltk_data]    |   Unzipping tokenizers/punkt.zip.\n",
            "[nltk_data]    | Downloading package qc to /root/nltk_data...\n",
            "[nltk_data]    |   Unzipping corpora/qc.zip.\n",
            "[nltk_data]    | Downloading package reuters to /root/nltk_data...\n",
            "[nltk_data]    | Downloading package rslp to /root/nltk_data...\n",
            "[nltk_data]    |   Unzipping stemmers/rslp.zip.\n",
            "[nltk_data]    | Downloading package rte to /root/nltk_data...\n",
            "[nltk_data]    |   Unzipping corpora/rte.zip.\n",
            "[nltk_data]    | Downloading package sample_grammars to\n",
            "[nltk_data]    |     /root/nltk_data...\n",
            "[nltk_data]    |   Unzipping grammars/sample_grammars.zip.\n",
            "[nltk_data]    | Downloading package semcor to /root/nltk_data...\n",
            "[nltk_data]    | Downloading package senseval to /root/nltk_data...\n",
            "[nltk_data]    |   Unzipping corpora/senseval.zip.\n",
            "[nltk_data]    | Downloading package sentence_polarity to\n",
            "[nltk_data]    |     /root/nltk_data...\n",
            "[nltk_data]    |   Unzipping corpora/sentence_polarity.zip.\n",
            "[nltk_data]    | Downloading package sentiwordnet to\n",
            "[nltk_data]    |     /root/nltk_data...\n",
            "[nltk_data]    |   Unzipping corpora/sentiwordnet.zip.\n",
            "[nltk_data]    | Downloading package shakespeare to /root/nltk_data...\n",
            "[nltk_data]    |   Unzipping corpora/shakespeare.zip.\n",
            "[nltk_data]    | Downloading package sinica_treebank to\n",
            "[nltk_data]    |     /root/nltk_data...\n",
            "[nltk_data]    |   Unzipping corpora/sinica_treebank.zip.\n",
            "[nltk_data]    | Downloading package smultron to /root/nltk_data...\n",
            "[nltk_data]    |   Unzipping corpora/smultron.zip.\n",
            "[nltk_data]    | Downloading package snowball_data to\n",
            "[nltk_data]    |     /root/nltk_data...\n",
            "[nltk_data]    | Downloading package spanish_grammars to\n",
            "[nltk_data]    |     /root/nltk_data...\n",
            "[nltk_data]    |   Unzipping grammars/spanish_grammars.zip.\n",
            "[nltk_data]    | Downloading package state_union to /root/nltk_data...\n",
            "[nltk_data]    |   Unzipping corpora/state_union.zip.\n",
            "[nltk_data]    | Downloading package stopwords to /root/nltk_data...\n",
            "[nltk_data]    |   Unzipping corpora/stopwords.zip.\n",
            "[nltk_data]    | Downloading package subjectivity to\n",
            "[nltk_data]    |     /root/nltk_data...\n",
            "[nltk_data]    |   Unzipping corpora/subjectivity.zip.\n",
            "[nltk_data]    | Downloading package swadesh to /root/nltk_data...\n",
            "[nltk_data]    |   Unzipping corpora/swadesh.zip.\n",
            "[nltk_data]    | Downloading package switchboard to /root/nltk_data...\n",
            "[nltk_data]    |   Unzipping corpora/switchboard.zip.\n",
            "[nltk_data]    | Downloading package tagsets to /root/nltk_data...\n",
            "[nltk_data]    |   Unzipping help/tagsets.zip.\n",
            "[nltk_data]    | Downloading package timit to /root/nltk_data...\n",
            "[nltk_data]    |   Unzipping corpora/timit.zip.\n",
            "[nltk_data]    | Downloading package toolbox to /root/nltk_data...\n",
            "[nltk_data]    |   Unzipping corpora/toolbox.zip.\n",
            "[nltk_data]    | Downloading package treebank to /root/nltk_data...\n",
            "[nltk_data]    |   Unzipping corpora/treebank.zip.\n",
            "[nltk_data]    | Downloading package twitter_samples to\n",
            "[nltk_data]    |     /root/nltk_data...\n",
            "[nltk_data]    |   Unzipping corpora/twitter_samples.zip.\n",
            "[nltk_data]    | Downloading package udhr to /root/nltk_data...\n",
            "[nltk_data]    |   Unzipping corpora/udhr.zip.\n",
            "[nltk_data]    | Downloading package udhr2 to /root/nltk_data...\n",
            "[nltk_data]    |   Unzipping corpora/udhr2.zip.\n",
            "[nltk_data]    | Downloading package unicode_samples to\n",
            "[nltk_data]    |     /root/nltk_data...\n",
            "[nltk_data]    |   Unzipping corpora/unicode_samples.zip.\n",
            "[nltk_data]    | Downloading package universal_tagset to\n",
            "[nltk_data]    |     /root/nltk_data...\n",
            "[nltk_data]    |   Unzipping taggers/universal_tagset.zip.\n",
            "[nltk_data]    | Downloading package universal_treebanks_v20 to\n",
            "[nltk_data]    |     /root/nltk_data...\n",
            "[nltk_data]    | Downloading package vader_lexicon to\n",
            "[nltk_data]    |     /root/nltk_data...\n",
            "[nltk_data]    | Downloading package verbnet to /root/nltk_data...\n",
            "[nltk_data]    |   Unzipping corpora/verbnet.zip.\n",
            "[nltk_data]    | Downloading package verbnet3 to /root/nltk_data...\n",
            "[nltk_data]    |   Unzipping corpora/verbnet3.zip.\n",
            "[nltk_data]    | Downloading package webtext to /root/nltk_data...\n",
            "[nltk_data]    |   Unzipping corpora/webtext.zip.\n",
            "[nltk_data]    | Downloading package wmt15_eval to /root/nltk_data...\n",
            "[nltk_data]    |   Unzipping models/wmt15_eval.zip.\n",
            "[nltk_data]    | Downloading package word2vec_sample to\n",
            "[nltk_data]    |     /root/nltk_data...\n",
            "[nltk_data]    |   Unzipping models/word2vec_sample.zip.\n",
            "[nltk_data]    | Downloading package wordnet to /root/nltk_data...\n",
            "[nltk_data]    | Downloading package wordnet2021 to /root/nltk_data...\n",
            "[nltk_data]    | Downloading package wordnet2022 to /root/nltk_data...\n",
            "[nltk_data]    |   Unzipping corpora/wordnet2022.zip.\n",
            "[nltk_data]    | Downloading package wordnet31 to /root/nltk_data...\n",
            "[nltk_data]    | Downloading package wordnet_ic to /root/nltk_data...\n",
            "[nltk_data]    |   Unzipping corpora/wordnet_ic.zip.\n",
            "[nltk_data]    | Downloading package words to /root/nltk_data...\n",
            "[nltk_data]    |   Unzipping corpora/words.zip.\n",
            "[nltk_data]    | Downloading package ycoe to /root/nltk_data...\n",
            "[nltk_data]    |   Unzipping corpora/ycoe.zip.\n",
            "[nltk_data]    | \n",
            "[nltk_data]  Done downloading collection all\n"
          ]
        },
        {
          "output_type": "execute_result",
          "data": {
            "text/plain": [
              "True"
            ]
          },
          "metadata": {},
          "execution_count": 2
        }
      ],
      "source": [
        "!pip install nltk\n",
        "\n",
        "import nltk\n",
        "from nltk.corpus import reuters\n",
        "from nltk import bigrams, ConditionalFreqDist\n",
        "from nltk.tokenize import word_tokenize, sent_tokenize\n",
        "# download nltk corpus (one time only)\n",
        "nltk.download('all')"
      ]
    },
    {
      "cell_type": "markdown",
      "source": [
        "#### Loading the dataset"
      ],
      "metadata": {
        "id": "jpZt1BDcp_-N"
      }
    },
    {
      "cell_type": "code",
      "execution_count": null,
      "metadata": {
        "colab": {
          "base_uri": "https://localhost:8080/"
        },
        "id": "CrVjPJyMCeIY",
        "outputId": "70910216-9024-49dd-891f-ec02273bb0cb"
      },
      "outputs": [
        {
          "output_type": "stream",
          "name": "stderr",
          "text": [
            "[nltk_data] Downloading package reuters to /root/nltk_data...\n",
            "[nltk_data]   Package reuters is already up-to-date!\n"
          ]
        }
      ],
      "source": [
        "nltk.download(\"reuters\")\n",
        "corpus = reuters.sents()"
      ]
    },
    {
      "cell_type": "markdown",
      "source": [
        "**The dataset or corpus is represented as a list of sentences (which themselves are a list of words).**"
      ],
      "metadata": {
        "id": "sD-M0fIt3XFH"
      }
    },
    {
      "cell_type": "code",
      "source": [
        "print(type(corpus))"
      ],
      "metadata": {
        "colab": {
          "base_uri": "https://localhost:8080/"
        },
        "id": "fAYZcERP3j3r",
        "outputId": "97252d4c-5b63-4ba6-e8c9-38a03196be25"
      },
      "execution_count": null,
      "outputs": [
        {
          "output_type": "stream",
          "name": "stdout",
          "text": [
            "<class 'nltk.corpus.reader.util.ConcatenatedCorpusView'>\n"
          ]
        }
      ]
    },
    {
      "cell_type": "code",
      "source": [
        "print(str(corpus))"
      ],
      "metadata": {
        "colab": {
          "base_uri": "https://localhost:8080/"
        },
        "id": "s4jTZ3aI2to4",
        "outputId": "08a50a88-f6a5-4b8e-8a44-d204213a2566"
      },
      "execution_count": null,
      "outputs": [
        {
          "output_type": "stream",
          "name": "stdout",
          "text": [
            "[['ASIAN', 'EXPORTERS', 'FEAR', 'DAMAGE', 'FROM', 'U', '.', 'S', '.-', 'JAPAN', 'RIFT', 'Mounting', 'trade', 'friction', 'between', 'the', 'U', '.', 'S', '.', 'And', 'Japan', 'has', 'raised', 'fears', 'among', 'many', 'of', 'Asia', \"'\", 's', 'exporting', 'nations', 'that', 'the', 'row', 'could', 'inflict', 'far', '-', 'reaching', 'economic', 'damage', ',', 'businessmen', 'and', 'officials', 'said', '.'], ['They', 'told', 'Reuter', 'correspondents', 'in', 'Asian', 'capitals', 'a', 'U', '.', 'S', '.', 'Move', 'against', 'Japan', 'might', 'boost', 'protectionist', 'sentiment', 'in', 'the', 'U', '.', 'S', '.', 'And', 'lead', 'to', 'curbs', 'on', 'American', 'imports', 'of', 'their', 'products', '.'], ...]\n"
          ]
        }
      ]
    },
    {
      "cell_type": "code",
      "source": [
        "print(corpus[0])"
      ],
      "metadata": {
        "colab": {
          "base_uri": "https://localhost:8080/"
        },
        "id": "WK6Ao9i2M1Y2",
        "outputId": "58688d79-ef19-4b4f-f8d8-4aa50b3c794e"
      },
      "execution_count": null,
      "outputs": [
        {
          "output_type": "stream",
          "name": "stdout",
          "text": [
            "['ASIAN', 'EXPORTERS', 'FEAR', 'DAMAGE', 'FROM', 'U', '.', 'S', '.-', 'JAPAN', 'RIFT', 'Mounting', 'trade', 'friction', 'between', 'the', 'U', '.', 'S', '.', 'And', 'Japan', 'has', 'raised', 'fears', 'among', 'many', 'of', 'Asia', \"'\", 's', 'exporting', 'nations', 'that', 'the', 'row', 'could', 'inflict', 'far', '-', 'reaching', 'economic', 'damage', ',', 'businessmen', 'and', 'officials', 'said', '.']\n"
          ]
        }
      ]
    },
    {
      "cell_type": "code",
      "source": [
        "len(corpus)"
      ],
      "metadata": {
        "colab": {
          "base_uri": "https://localhost:8080/"
        },
        "id": "WLSR0ZyONsEj",
        "outputId": "d4279bcb-2cd3-4d5d-c214-604eaeab8eee"
      },
      "execution_count": null,
      "outputs": [
        {
          "output_type": "execute_result",
          "data": {
            "text/plain": [
              "54716"
            ]
          },
          "metadata": {},
          "execution_count": 6
        }
      ]
    },
    {
      "cell_type": "markdown",
      "source": [
        "#### Creating Bigrams\n",
        "**Sentence**: This is a Data Science Course<br>\n",
        "**UniGram**:\n",
        "* This\n",
        "* is\n",
        "* a\n",
        "* Data\n",
        "* Science\n",
        "* Course\n",
        "\n",
        "**BiGram**:\n",
        "* This is\n",
        "* is a\n",
        "* a Data\n",
        "* Data Science\n",
        "* Science Course\n",
        "\n",
        "**TriGram**:\n",
        "* This is a\n",
        "* is a Data\n",
        "* a Data Science\n",
        "* Data Science Course"
      ],
      "metadata": {
        "id": "qarcjFFUqHv4"
      }
    },
    {
      "cell_type": "code",
      "execution_count": null,
      "metadata": {
        "id": "MFyRARznCixe"
      },
      "outputs": [],
      "source": [
        "words = [each_word.lower() for each_sentence in corpus for each_word in each_sentence]\n",
        "bigrams_list = list(bigrams(words))"
      ]
    },
    {
      "cell_type": "code",
      "source": [
        "print(bigrams_list[:10])"
      ],
      "metadata": {
        "colab": {
          "base_uri": "https://localhost:8080/"
        },
        "id": "kHZAogTQQno7",
        "outputId": "f5f484c0-ba6f-45d1-8761-4ecb9d9f8706"
      },
      "execution_count": null,
      "outputs": [
        {
          "output_type": "stream",
          "name": "stdout",
          "text": [
            "[('asian', 'exporters'), ('exporters', 'fear'), ('fear', 'damage'), ('damage', 'from'), ('from', 'u'), ('u', '.'), ('.', 's'), ('s', '.-'), ('.-', 'japan'), ('japan', 'rift')]\n"
          ]
        }
      ]
    },
    {
      "cell_type": "markdown",
      "source": [
        "#### Creating Conditional Frequency Distribution"
      ],
      "metadata": {
        "id": "Bzo8Z2DVrQDM"
      }
    },
    {
      "cell_type": "code",
      "execution_count": null,
      "metadata": {
        "id": "q6wbRTRtClMd"
      },
      "outputs": [],
      "source": [
        "cfd = ConditionalFreqDist(bigrams_list)"
      ]
    },
    {
      "cell_type": "code",
      "source": [
        "cfd['the']\n",
        "# ('the', 'company') -> 3126 times in the entire bigrams list\n",
        "# ('the', 'u') -> 2264 times in the entire bigrams list\n",
        "# ('the', 'dollar') -> 984 times in the entire bigrams list\n",
        "# ('the', 'bank') -> 960 times in the entire bigrams list\n",
        "# ('the', 'first') -> 839 times in the entire bigrams list"
      ],
      "metadata": {
        "colab": {
          "base_uri": "https://localhost:8080/"
        },
        "id": "Dvgh4w1-SCMu",
        "outputId": "ac91ac61-3a19-4b87-9cde-598658dad814"
      },
      "execution_count": null,
      "outputs": [
        {
          "output_type": "execute_result",
          "data": {
            "text/plain": [
              "FreqDist({'company': 3126, 'u': 2264, 'dollar': 984, 'bank': 960, 'first': 839, 'government': 787, 'year': 720, 'united': 682, 'new': 678, 'market': 590, ...})"
            ]
          },
          "metadata": {},
          "execution_count": 14
        }
      ]
    },
    {
      "cell_type": "markdown",
      "source": [
        "#### Predicting Next Word"
      ],
      "metadata": {
        "id": "qlFX5RWFrTu9"
      }
    },
    {
      "cell_type": "code",
      "execution_count": null,
      "metadata": {
        "id": "A5fzuvj6CouK"
      },
      "outputs": [],
      "source": [
        "def predict_next_word(input_word):\n",
        "    input_word = input_word.lower()\n",
        "    if input_word in cfd:\n",
        "        return cfd[input_word].max()\n",
        "    else:\n",
        "        return \"Word not found in corpus\""
      ]
    },
    {
      "cell_type": "code",
      "execution_count": null,
      "metadata": {
        "colab": {
          "base_uri": "https://localhost:8080/"
        },
        "id": "gZpmOLiLCqlW",
        "outputId": "56efa80e-c23d-44a8-fb89-b47f845bc4c7"
      },
      "outputs": [
        {
          "output_type": "stream",
          "name": "stdout",
          "text": [
            "The next word after 'the' could be: company\n"
          ]
        }
      ],
      "source": [
        "input_word = \"the\"\n",
        "next_word = predict_next_word(input_word)\n",
        "print(f\"The next word after '{input_word}' could be: {next_word}\")"
      ]
    },
    {
      "cell_type": "markdown",
      "metadata": {
        "id": "uVBTadd6C7y9"
      },
      "source": [
        "# Next Word Prediction using RNNs\n",
        "\n",
        "Before we start: [The Unreasonable Effectiveness of Recurrent Neural Networks](http://karpathy.github.io/2015/05/21/rnn-effectiveness/)"
      ]
    },
    {
      "cell_type": "markdown",
      "source": [
        "#### An LSTM Cell\n",
        "\n",
        "How a Neuron remembers the relevant past\n",
        "![1_ahafyNt0Ph_J6Ed9_2hvdg.png](data:image/png;base64,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)\n",
        "<br>\n",
        "An LSTM cell is like a tiny memory unit inside a computer program. It has three main parts:\n",
        "\n",
        "* Input Gate: Think of this as a gatekeeper. It decides which new information to let in from the current input and whether to remember it or not.\n",
        "\n",
        "* Forget Gate: This part helps the LSTM cell decide what information to forget from its previous memory. It's like cleaning out unnecessary stuff to make room for new things.\n",
        "\n",
        "* Output Gate: This gate decides what information the LSTM cell should pass on to the next step in the sequence. It's like the LSTM cell deciding what to say or remember.\n",
        "\n",
        "The cell has two states Cell State and Hidden State. They are continuously updated and carry the information from the previous to the current time steps.\n",
        "\n",
        "The cell state is the “long-term” memory, while the hidden state is the “short-term” memory.\n",
        "\n",
        "The forget gate and input gate update the cell state. <br>\n",
        "The hidden state is computed using the output gate."
      ],
      "metadata": {
        "id": "GoJxJW55r94E"
      }
    },
    {
      "cell_type": "code",
      "source": [
        "import numpy as np\n",
        "\n",
        "def sigmoid(x):\n",
        "  return 1 / (1 + np.exp(-x))\n",
        "\n",
        "def lstm_cell_explained(prev_c, prev_h, x_t, params):\n",
        "    \"\"\"\n",
        "    LSTM cell implementation.\n",
        "\n",
        "    Args:\n",
        "    prev_c: Previous cell state (numpy array of shape (hidden_size,))\n",
        "    prev_h: Previous hidden state (numpy array of shape (hidden_size,))\n",
        "    x_t: Input at time step t (numpy array of shape (input_size,))\n",
        "    params: Dictionary containing LSTM parameters - {'W_f', 'U_f', 'b_f', 'W_i', 'U_i', 'b_i', 'W_c', 'U_c', 'b_c', 'W_o', 'U_o', 'b_o'}\n",
        "\n",
        "    Returns:\n",
        "    next_c: Next cell state (numpy array of shape (hidden_size,))\n",
        "    next_h: Next hidden state (numpy array of shape (hidden_size,))\n",
        "    \"\"\"\n",
        "\n",
        "\n",
        "    W_f, U_f, b_f = params['W_f'], params['U_f'], params['b_f']\n",
        "    W_i, U_i, b_i = params['W_i'], params['U_i'], params['b_i']\n",
        "    W_c, U_c, b_c = params['W_c'], params['U_c'], params['b_c']\n",
        "    W_o, U_o, b_o = params['W_o'], params['U_o'], params['b_o']\n",
        "\n",
        "    # Input gate\n",
        "    i_t = sigmoid(np.dot(prev_h, U_i) + np.dot(x_t, W_i) + b_i)\n",
        "\n",
        "    # Forget gate\n",
        "    f_t = sigmoid(np.dot(prev_h, U_f) + np.dot(x_t, W_f) + b_f)\n",
        "\n",
        "    # Output gate\n",
        "    o_t = sigmoid(np.dot(prev_h, U_o) + np.dot(x_t, W_o) + b_o)\n",
        "\n",
        "    # Cell state\n",
        "    c_t = np.tanh(np.dot(prev_h, U_c) + np.dot(x_t, W_c) + b_c)\n",
        "\n",
        "    # Update cell state\n",
        "    next_c = f_t * prev_c + i_t * c_t\n",
        "\n",
        "    # Update hidden state\n",
        "    next_h = o_t * np.tanh(next_c)\n",
        "\n",
        "    return next_c, next_h"
      ],
      "metadata": {
        "id": "7E7hJxcvtBaA"
      },
      "execution_count": null,
      "outputs": []
    },
    {
      "cell_type": "markdown",
      "source": [
        "#### Basic Setup"
      ],
      "metadata": {
        "id": "4ohuxIQZtCsS"
      }
    },
    {
      "cell_type": "code",
      "source": [
        "import tensorflow as tf\n",
        "import numpy as np\n",
        "import random\n",
        "import sys\n",
        "import os"
      ],
      "metadata": {
        "id": "0Jn68RFTtF7i"
      },
      "execution_count": null,
      "outputs": []
    },
    {
      "cell_type": "markdown",
      "source": [
        "#### Loading the dataset"
      ],
      "metadata": {
        "id": "MgXkcr2btINd"
      }
    },
    {
      "cell_type": "code",
      "source": [
        "# Load and preprocess the Shakespeare text\n",
        "path_to_file = tf.keras.utils.get_file('shakespeare.txt', 'https://storage.googleapis.com/download.tensorflow.org/data/shakespeare.txt')\n",
        "\n",
        "text = open(path_to_file, 'rb').read().decode(encoding='utf-8')"
      ],
      "metadata": {
        "colab": {
          "base_uri": "https://localhost:8080/"
        },
        "id": "HHZnDmmBtMIf",
        "outputId": "a55b174a-07a7-4ecc-91e9-80ca86bacfe8"
      },
      "execution_count": null,
      "outputs": [
        {
          "output_type": "stream",
          "name": "stdout",
          "text": [
            "Downloading data from https://storage.googleapis.com/download.tensorflow.org/data/shakespeare.txt\n",
            "1115394/1115394 [==============================] - 0s 0us/step\n"
          ]
        }
      ]
    },
    {
      "cell_type": "markdown",
      "source": [
        "#### Creating mappings"
      ],
      "metadata": {
        "id": "3BpDS8S-tUmG"
      }
    },
    {
      "cell_type": "code",
      "source": [
        "# Create a vocabulary\n",
        "vocab = sorted(set(text))\n",
        "\n",
        "# Create a mapping from characters to unique indices\n",
        "char2idx = {char: idx for idx, char in enumerate(vocab)}\n",
        "idx2char = np.array(vocab)\n",
        "\n",
        "# Convert the text to numerical data\n",
        "text_as_int = np.array([char2idx[char] for char in text])"
      ],
      "metadata": {
        "id": "LxmC3OQ0tXI0"
      },
      "execution_count": null,
      "outputs": []
    },
    {
      "cell_type": "code",
      "source": [
        "print(vocab)\n",
        "print(len(vocab))"
      ],
      "metadata": {
        "colab": {
          "base_uri": "https://localhost:8080/"
        },
        "id": "sYBGKBZ0X1Aq",
        "outputId": "cb4b5ad5-c8bf-4dde-8e63-81cbc2991f59"
      },
      "execution_count": null,
      "outputs": [
        {
          "output_type": "stream",
          "name": "stdout",
          "text": [
            "['\\n', ' ', '!', '$', '&', \"'\", ',', '-', '.', '3', ':', ';', '?', 'A', 'B', 'C', 'D', 'E', 'F', 'G', 'H', 'I', 'J', 'K', 'L', 'M', 'N', 'O', 'P', 'Q', 'R', 'S', 'T', 'U', 'V', 'W', 'X', 'Y', 'Z', 'a', 'b', 'c', 'd', 'e', 'f', 'g', 'h', 'i', 'j', 'k', 'l', 'm', 'n', 'o', 'p', 'q', 'r', 's', 't', 'u', 'v', 'w', 'x', 'y', 'z']\n",
            "65\n"
          ]
        }
      ]
    },
    {
      "cell_type": "code",
      "source": [
        "print(char2idx)"
      ],
      "metadata": {
        "colab": {
          "base_uri": "https://localhost:8080/"
        },
        "id": "4t0aHwkIXbJV",
        "outputId": "2317bb72-9a6c-4c5d-cf24-2b0e0b74acff"
      },
      "execution_count": null,
      "outputs": [
        {
          "output_type": "stream",
          "name": "stdout",
          "text": [
            "{'\\n': 0, ' ': 1, '!': 2, '$': 3, '&': 4, \"'\": 5, ',': 6, '-': 7, '.': 8, '3': 9, ':': 10, ';': 11, '?': 12, 'A': 13, 'B': 14, 'C': 15, 'D': 16, 'E': 17, 'F': 18, 'G': 19, 'H': 20, 'I': 21, 'J': 22, 'K': 23, 'L': 24, 'M': 25, 'N': 26, 'O': 27, 'P': 28, 'Q': 29, 'R': 30, 'S': 31, 'T': 32, 'U': 33, 'V': 34, 'W': 35, 'X': 36, 'Y': 37, 'Z': 38, 'a': 39, 'b': 40, 'c': 41, 'd': 42, 'e': 43, 'f': 44, 'g': 45, 'h': 46, 'i': 47, 'j': 48, 'k': 49, 'l': 50, 'm': 51, 'n': 52, 'o': 53, 'p': 54, 'q': 55, 'r': 56, 's': 57, 't': 58, 'u': 59, 'v': 60, 'w': 61, 'x': 62, 'y': 63, 'z': 64}\n"
          ]
        }
      ]
    },
    {
      "cell_type": "code",
      "source": [
        "print(idx2char)"
      ],
      "metadata": {
        "colab": {
          "base_uri": "https://localhost:8080/"
        },
        "id": "zJSxNv68YPe6",
        "outputId": "0d4af394-52ec-4a82-83a9-f8135e549ede"
      },
      "execution_count": null,
      "outputs": [
        {
          "output_type": "stream",
          "name": "stdout",
          "text": [
            "['\\n' ' ' '!' '$' '&' \"'\" ',' '-' '.' '3' ':' ';' '?' 'A' 'B' 'C' 'D' 'E'\n",
            " 'F' 'G' 'H' 'I' 'J' 'K' 'L' 'M' 'N' 'O' 'P' 'Q' 'R' 'S' 'T' 'U' 'V' 'W'\n",
            " 'X' 'Y' 'Z' 'a' 'b' 'c' 'd' 'e' 'f' 'g' 'h' 'i' 'j' 'k' 'l' 'm' 'n' 'o'\n",
            " 'p' 'q' 'r' 's' 't' 'u' 'v' 'w' 'x' 'y' 'z']\n"
          ]
        }
      ]
    },
    {
      "cell_type": "code",
      "source": [
        "print(text_as_int[0:200])"
      ],
      "metadata": {
        "colab": {
          "base_uri": "https://localhost:8080/"
        },
        "id": "-ra6I9D6YfwW",
        "outputId": "da1f4f34-c2a2-49a2-b8db-abb8679ca019"
      },
      "execution_count": null,
      "outputs": [
        {
          "output_type": "stream",
          "name": "stdout",
          "text": [
            "[18 47 56 57 58  1 15 47 58 47 64 43 52 10  0 14 43 44 53 56 43  1 61 43\n",
            "  1 54 56 53 41 43 43 42  1 39 52 63  1 44 59 56 58 46 43 56  6  1 46 43\n",
            " 39 56  1 51 43  1 57 54 43 39 49  8  0  0 13 50 50 10  0 31 54 43 39 49\n",
            "  6  1 57 54 43 39 49  8  0  0 18 47 56 57 58  1 15 47 58 47 64 43 52 10\n",
            "  0 37 53 59  1 39 56 43  1 39 50 50  1 56 43 57 53 50 60 43 42  1 56 39\n",
            " 58 46 43 56  1 58 53  1 42 47 43  1 58 46 39 52  1 58 53  1 44 39 51 47\n",
            " 57 46 12  0  0 13 50 50 10  0 30 43 57 53 50 60 43 42  8  1 56 43 57 53\n",
            " 50 60 43 42  8  0  0 18 47 56 57 58  1 15 47 58 47 64 43 52 10  0 18 47\n",
            " 56 57 58  6  1 63 53 59]\n"
          ]
        }
      ]
    },
    {
      "cell_type": "markdown",
      "source": [
        "#### Creating Training Batches"
      ],
      "metadata": {
        "id": "NMbDUA6ltajm"
      }
    },
    {
      "cell_type": "code",
      "source": [
        "# Create training examples and targets\n",
        "sequence_length = 100\n",
        "sequences_per_epoch = len(text) // (sequence_length + 1)\n",
        "print(sequences_per_epoch)\n",
        "\n",
        "char_dataset = tf.data.Dataset.from_tensor_slices(text_as_int)\n",
        "# Printing tensor slices\n",
        "counter = 0\n",
        "print(\"Individual characters converted to Tensors\")\n",
        "for chars in char_dataset:\n",
        "  counter = counter + 1\n",
        "  print(chars)\n",
        "  if counter == 10:\n",
        "    break\n",
        "\n",
        "# Printing character batches\n",
        "sequences = char_dataset.batch(sequence_length + 1, drop_remainder=True)\n",
        "\n",
        "counter = 0\n",
        "for seqs in sequences:\n",
        "  counter = counter + 1\n",
        "  print(seqs)\n",
        "  if counter == 5:\n",
        "    break\n",
        "\n",
        "def split_input_target(chunk):\n",
        "    input_text = chunk[:-1]\n",
        "    print(input_text)\n",
        "    target_text = chunk[1:]\n",
        "    return input_text, target_text\n",
        "\n",
        "dataset = sequences.map(split_input_target)"
      ],
      "metadata": {
        "colab": {
          "base_uri": "https://localhost:8080/"
        },
        "id": "aS62_8-Htdb8",
        "outputId": "53a358de-7756-4af9-9fcd-2e17e4b4adce"
      },
      "execution_count": null,
      "outputs": [
        {
          "output_type": "stream",
          "name": "stdout",
          "text": [
            "11043\n",
            "Individual characters converted to Tensors\n",
            "tf.Tensor(18, shape=(), dtype=int64)\n",
            "tf.Tensor(47, shape=(), dtype=int64)\n",
            "tf.Tensor(56, shape=(), dtype=int64)\n",
            "tf.Tensor(57, shape=(), dtype=int64)\n",
            "tf.Tensor(58, shape=(), dtype=int64)\n",
            "tf.Tensor(1, shape=(), dtype=int64)\n",
            "tf.Tensor(15, shape=(), dtype=int64)\n",
            "tf.Tensor(47, shape=(), dtype=int64)\n",
            "tf.Tensor(58, shape=(), dtype=int64)\n",
            "tf.Tensor(47, shape=(), dtype=int64)\n",
            "tf.Tensor(\n",
            "[18 47 56 57 58  1 15 47 58 47 64 43 52 10  0 14 43 44 53 56 43  1 61 43\n",
            "  1 54 56 53 41 43 43 42  1 39 52 63  1 44 59 56 58 46 43 56  6  1 46 43\n",
            " 39 56  1 51 43  1 57 54 43 39 49  8  0  0 13 50 50 10  0 31 54 43 39 49\n",
            "  6  1 57 54 43 39 49  8  0  0 18 47 56 57 58  1 15 47 58 47 64 43 52 10\n",
            "  0 37 53 59  1], shape=(101,), dtype=int64)\n",
            "tf.Tensor(\n",
            "[39 56 43  1 39 50 50  1 56 43 57 53 50 60 43 42  1 56 39 58 46 43 56  1\n",
            " 58 53  1 42 47 43  1 58 46 39 52  1 58 53  1 44 39 51 47 57 46 12  0  0\n",
            " 13 50 50 10  0 30 43 57 53 50 60 43 42  8  1 56 43 57 53 50 60 43 42  8\n",
            "  0  0 18 47 56 57 58  1 15 47 58 47 64 43 52 10  0 18 47 56 57 58  6  1\n",
            " 63 53 59  1 49], shape=(101,), dtype=int64)\n",
            "tf.Tensor(\n",
            "[52 53 61  1 15 39 47 59 57  1 25 39 56 41 47 59 57  1 47 57  1 41 46 47\n",
            " 43 44  1 43 52 43 51 63  1 58 53  1 58 46 43  1 54 43 53 54 50 43  8  0\n",
            "  0 13 50 50 10  0 35 43  1 49 52 53 61  5 58  6  1 61 43  1 49 52 53 61\n",
            "  5 58  8  0  0 18 47 56 57 58  1 15 47 58 47 64 43 52 10  0 24 43 58  1\n",
            " 59 57  1 49 47], shape=(101,), dtype=int64)\n",
            "tf.Tensor(\n",
            "[50 50  1 46 47 51  6  1 39 52 42  1 61 43  5 50 50  1 46 39 60 43  1 41\n",
            " 53 56 52  1 39 58  1 53 59 56  1 53 61 52  1 54 56 47 41 43  8  0 21 57\n",
            "  5 58  1 39  1 60 43 56 42 47 41 58 12  0  0 13 50 50 10  0 26 53  1 51\n",
            " 53 56 43  1 58 39 50 49 47 52 45  1 53 52  5 58 11  1 50 43 58  1 47 58\n",
            "  1 40 43  1 42], shape=(101,), dtype=int64)\n",
            "tf.Tensor(\n",
            "[53 52 43 10  1 39 61 39 63  6  1 39 61 39 63  2  0  0 31 43 41 53 52 42\n",
            "  1 15 47 58 47 64 43 52 10  0 27 52 43  1 61 53 56 42  6  1 45 53 53 42\n",
            "  1 41 47 58 47 64 43 52 57  8  0  0 18 47 56 57 58  1 15 47 58 47 64 43\n",
            " 52 10  0 35 43  1 39 56 43  1 39 41 41 53 59 52 58 43 42  1 54 53 53 56\n",
            "  1 41 47 58 47], shape=(101,), dtype=int64)\n",
            "Tensor(\"strided_slice:0\", shape=(100,), dtype=int64)\n"
          ]
        }
      ]
    },
    {
      "cell_type": "markdown",
      "source": [
        "#### Training Parameters"
      ],
      "metadata": {
        "id": "v7Q4fvKutnY-"
      }
    },
    {
      "cell_type": "code",
      "source": [
        "# Batch size\n",
        "BATCH_SIZE = 64\n",
        "\n",
        "# Buffer size to shuffle the dataset\n",
        "BUFFER_SIZE = 10000\n",
        "\n",
        "dataset = dataset.shuffle(BUFFER_SIZE).batch(BATCH_SIZE, drop_remainder=True)\n",
        "\n",
        "vocab_size = len(vocab)\n",
        "embedding_dim = 256\n",
        "rnn_units = 1024\n",
        "\n",
        "EPOCHS = 30"
      ],
      "metadata": {
        "id": "24dace6mtvnc"
      },
      "execution_count": null,
      "outputs": []
    },
    {
      "cell_type": "markdown",
      "source": [
        "#### Creating the Model"
      ],
      "metadata": {
        "id": "vkciDdWquDqi"
      }
    },
    {
      "cell_type": "code",
      "source": [
        "def build_model(vocab_size, embedding_dim, rnn_units, batch_size):\n",
        "    model = tf.keras.Sequential([\n",
        "        tf.keras.layers.Embedding(vocab_size, embedding_dim, batch_input_shape=[batch_size, None]),\n",
        "        tf.keras.layers.LSTM(rnn_units, return_sequences=True, stateful=True, recurrent_initializer='glorot_uniform'),\n",
        "        tf.keras.layers.Dense(vocab_size)\n",
        "    ])\n",
        "    return model\n",
        "\n",
        "model = build_model(vocab_size, embedding_dim, rnn_units, BATCH_SIZE)\n",
        "\n",
        "# Compile the model\n",
        "model.compile(optimizer='adam', loss=tf.keras.losses.SparseCategoricalCrossentropy(from_logits=True))\n",
        "\n",
        "# Configure checkpoints\n",
        "checkpoint_dir = './training_checkpoints'\n",
        "checkpoint_prefix = os.path.join(checkpoint_dir, \"ckpt_{epoch}\")\n",
        "\n",
        "checkpoint_callback = tf.keras.callbacks.ModelCheckpoint(\n",
        "    filepath=checkpoint_prefix,\n",
        "    save_weights_only=True)"
      ],
      "metadata": {
        "id": "ZPq_33tpuGHy"
      },
      "execution_count": null,
      "outputs": []
    },
    {
      "cell_type": "code",
      "source": [
        "model.summary()"
      ],
      "metadata": {
        "id": "CgrmdFQ4d0yc",
        "outputId": "264ad1b2-d327-4fc5-a723-0a64187fb192",
        "colab": {
          "base_uri": "https://localhost:8080/"
        }
      },
      "execution_count": null,
      "outputs": [
        {
          "output_type": "stream",
          "name": "stdout",
          "text": [
            "Model: \"sequential\"\n",
            "_________________________________________________________________\n",
            " Layer (type)                Output Shape              Param #   \n",
            "=================================================================\n",
            " embedding (Embedding)       (64, None, 256)           16640     \n",
            "                                                                 \n",
            " lstm (LSTM)                 (64, None, 1024)          5246976   \n",
            "                                                                 \n",
            " dense (Dense)               (64, None, 65)            66625     \n",
            "                                                                 \n",
            "=================================================================\n",
            "Total params: 5330241 (20.33 MB)\n",
            "Trainable params: 5330241 (20.33 MB)\n",
            "Non-trainable params: 0 (0.00 Byte)\n",
            "_________________________________________________________________\n"
          ]
        }
      ]
    },
    {
      "cell_type": "markdown",
      "source": [
        "#### Training the Model"
      ],
      "metadata": {
        "id": "rz72fOM4uPzA"
      }
    },
    {
      "cell_type": "code",
      "source": [
        "history = model.fit(dataset, epochs=EPOCHS, callbacks=[checkpoint_callback])"
      ],
      "metadata": {
        "colab": {
          "base_uri": "https://localhost:8080/"
        },
        "id": "yf9ZCrHyuSAZ",
        "outputId": "5d694828-77e9-4ff7-8f92-cf78a65aaab2"
      },
      "execution_count": null,
      "outputs": [
        {
          "output_type": "stream",
          "name": "stdout",
          "text": [
            "Epoch 1/30\n",
            "172/172 [==============================] - 27s 91ms/step - loss: 2.5851\n",
            "Epoch 2/30\n",
            "172/172 [==============================] - 15s 72ms/step - loss: 1.8703\n",
            "Epoch 3/30\n",
            "172/172 [==============================] - 15s 74ms/step - loss: 1.6241\n",
            "Epoch 4/30\n",
            "172/172 [==============================] - 16s 74ms/step - loss: 1.4922\n",
            "Epoch 5/30\n",
            "172/172 [==============================] - 15s 76ms/step - loss: 1.4149\n",
            "Epoch 6/30\n",
            "172/172 [==============================] - 15s 77ms/step - loss: 1.3591\n",
            "Epoch 7/30\n",
            "172/172 [==============================] - 15s 78ms/step - loss: 1.3159\n",
            "Epoch 8/30\n",
            "172/172 [==============================] - 15s 78ms/step - loss: 1.2766\n",
            "Epoch 9/30\n",
            "172/172 [==============================] - 16s 76ms/step - loss: 1.2402\n",
            "Epoch 10/30\n",
            "172/172 [==============================] - 15s 76ms/step - loss: 1.2049\n",
            "Epoch 11/30\n",
            "172/172 [==============================] - 15s 77ms/step - loss: 1.1697\n",
            "Epoch 12/30\n",
            "172/172 [==============================] - 15s 77ms/step - loss: 1.1324\n",
            "Epoch 13/30\n",
            "172/172 [==============================] - 16s 76ms/step - loss: 1.0946\n",
            "Epoch 14/30\n",
            "172/172 [==============================] - 15s 77ms/step - loss: 1.0554\n",
            "Epoch 15/30\n",
            "172/172 [==============================] - 15s 77ms/step - loss: 1.0144\n",
            "Epoch 16/30\n",
            "172/172 [==============================] - 16s 76ms/step - loss: 0.9737\n",
            "Epoch 17/30\n",
            "172/172 [==============================] - 15s 79ms/step - loss: 0.9325\n",
            "Epoch 18/30\n",
            "172/172 [==============================] - 15s 78ms/step - loss: 0.8911\n",
            "Epoch 19/30\n",
            "172/172 [==============================] - 16s 78ms/step - loss: 0.8506\n",
            "Epoch 20/30\n",
            "172/172 [==============================] - 15s 76ms/step - loss: 0.8145\n",
            "Epoch 21/30\n",
            "172/172 [==============================] - 15s 76ms/step - loss: 0.7773\n",
            "Epoch 22/30\n",
            "172/172 [==============================] - 15s 77ms/step - loss: 0.7431\n",
            "Epoch 23/30\n",
            "172/172 [==============================] - 15s 78ms/step - loss: 0.7135\n",
            "Epoch 24/30\n",
            "172/172 [==============================] - 15s 77ms/step - loss: 0.6831\n",
            "Epoch 25/30\n",
            "172/172 [==============================] - 16s 79ms/step - loss: 0.6584\n",
            "Epoch 26/30\n",
            "172/172 [==============================] - 16s 77ms/step - loss: 0.6331\n",
            "Epoch 27/30\n",
            "172/172 [==============================] - 15s 77ms/step - loss: 0.6132\n",
            "Epoch 28/30\n",
            "172/172 [==============================] - 15s 77ms/step - loss: 0.5937\n",
            "Epoch 29/30\n",
            "172/172 [==============================] - 15s 77ms/step - loss: 0.5747\n",
            "Epoch 30/30\n",
            "172/172 [==============================] - 16s 77ms/step - loss: 0.5590\n"
          ]
        }
      ]
    },
    {
      "cell_type": "markdown",
      "source": [
        "#### Predicting with the Model"
      ],
      "metadata": {
        "id": "ML_4Q1e2uxCk"
      }
    },
    {
      "cell_type": "code",
      "execution_count": null,
      "metadata": {
        "colab": {
          "base_uri": "https://localhost:8080/"
        },
        "id": "U0KRVeWmCtKN",
        "outputId": "889363d7-7afd-48df-df87-78fd803b579b"
      },
      "outputs": [
        {
          "output_type": "stream",
          "name": "stdout",
          "text": [
            "ROMEO: Be merrol,\n",
            "Spit in her brethren Richmond and Petruchio.\n",
            "\n",
            "CAMILLO:\n",
            "I thank you, lads. Pover Gloucester's dead!\n",
            "\n",
            "QUEEN ELIZABETH:\n",
            "Harpon, amisad, fetch I look pale,\n",
            "Which we heard here a dream to princely name,\n",
            "In earth against the traff my meditation,\n",
            "Ant of what thou hast spoken worse,\n",
            "The fresh sinks papuled in despite of me.\n",
            "\n",
            "KING RICHARD II:\n",
            "Well, I just company, I think IVER:\n",
            "What else? be but true, he deserved, your son,\n",
            "Go together with this earth and credutish\n",
            "det redemption! while the old weeds,\n",
            "The fatal blood is sit in them,\n",
            "By her force and victory.\n",
            "But my heart prepare for Talk'd?\n",
            "\n",
            "GLOUCESTER:\n",
            "What, more than I, or'th, I will dry\n",
            "you must return before your grace to pluch them all,\n",
            "That bear the shadow dry our traded head to the wind;\n",
            "Who, or thy warlike state, my Lord Noble Marcius, that will say From your country's father.\n",
            "\n",
            "BIANCA:\n",
            "Why, since the king shall be contented\n",
            "Upon the people: is't most rich in remedy and am I servant;\n",
            "Or sweetle yours, ladies, Lancaster.\n",
            "\n",
            "GLOUC\n"
          ]
        }
      ],
      "source": [
        "# Generate text\n",
        "def generate_text(model, start_string):\n",
        "    num_generate = 1000\n",
        "    input_eval = [char2idx[s] for s in start_string]\n",
        "    input_eval = tf.expand_dims(input_eval, 0)\n",
        "    text_generated = []\n",
        "    temperature = 1.0\n",
        "\n",
        "    model.reset_states()\n",
        "    for i in range(num_generate):\n",
        "        predictions = model(input_eval)\n",
        "        predictions = tf.squeeze(predictions, 0)\n",
        "        predictions = predictions / temperature\n",
        "        predicted_id = tf.random.categorical(predictions, num_samples=1)[-1, 0].numpy()\n",
        "        input_eval = tf.expand_dims([predicted_id], 0)\n",
        "        text_generated.append(idx2char[predicted_id])\n",
        "\n",
        "    return (start_string + ''.join(text_generated))\n",
        "\n",
        "# Restore the latest checkpoint and generate text\n",
        "model = build_model(vocab_size, embedding_dim, rnn_units, batch_size=1)\n",
        "model.load_weights(tf.train.latest_checkpoint(checkpoint_dir))\n",
        "model.build(tf.TensorShape([1, None]))\n",
        "\n",
        "print(generate_text(model, start_string=u\"ROMEO: \"))"
      ]
    },
    {
      "cell_type": "markdown",
      "source": [
        "# Next Word Prediction using Transformers"
      ],
      "metadata": {
        "id": "LwGrBiVqu1Jm"
      }
    },
    {
      "cell_type": "code",
      "source": [
        "from transformers import pipeline\n",
        "\n",
        "generator = pipeline(\"text-generation\")\n",
        "generator(\"In this Data Science course, we will teach you to\")"
      ],
      "metadata": {
        "colab": {
          "base_uri": "https://localhost:8080/"
        },
        "id": "6dNPOSb0tRtN",
        "outputId": "2694156f-b811-441b-cbaf-adcbae642a1a"
      },
      "execution_count": null,
      "outputs": [
        {
          "output_type": "stream",
          "name": "stderr",
          "text": [
            "No model was supplied, defaulted to openai-community/gpt2 and revision 6c0e608 (https://huggingface.co/openai-community/gpt2).\n",
            "Using a pipeline without specifying a model name and revision in production is not recommended.\n",
            "Setting `pad_token_id` to `eos_token_id`:50256 for open-end generation.\n"
          ]
        },
        {
          "output_type": "execute_result",
          "data": {
            "text/plain": [
              "[{'generated_text': 'In this Data Science course, we will teach you to apply data science principles and methods to an industry with wide reach. It will offer practical solutions for information security problems, enterprise data services, and new technologies for the large and small businesses. The course'}]"
            ]
          },
          "metadata": {},
          "execution_count": 4
        }
      ]
    },
    {
      "cell_type": "code",
      "execution_count": null,
      "metadata": {
        "colab": {
          "base_uri": "https://localhost:8080/"
        },
        "id": "agBmyO40C8-u",
        "outputId": "dc262284-189a-4d72-fe7b-b3b09ea0d19f"
      },
      "outputs": [
        {
          "output_type": "stream",
          "name": "stdout",
          "text": [
            "Collecting transformers\n",
            "  Downloading transformers-4.33.2-py3-none-any.whl (7.6 MB)\n",
            "\u001b[2K     \u001b[90m━━━━━━━━━━━━━━━━━━━━━━━━━━━━━━━━━━━━━━━━\u001b[0m \u001b[32m7.6/7.6 MB\u001b[0m \u001b[31m38.9 MB/s\u001b[0m eta \u001b[36m0:00:00\u001b[0m\n",
            "\u001b[?25hRequirement already satisfied: torch in /usr/local/lib/python3.10/dist-packages (2.0.1+cu118)\n",
            "Requirement already satisfied: filelock in /usr/local/lib/python3.10/dist-packages (from transformers) (3.12.2)\n",
            "Collecting huggingface-hub<1.0,>=0.15.1 (from transformers)\n",
            "  Downloading huggingface_hub-0.17.1-py3-none-any.whl (294 kB)\n",
            "\u001b[2K     \u001b[90m━━━━━━━━━━━━━━━━━━━━━━━━━━━━━━━━━━━━━━\u001b[0m \u001b[32m294.8/294.8 kB\u001b[0m \u001b[31m25.2 MB/s\u001b[0m eta \u001b[36m0:00:00\u001b[0m\n",
            "\u001b[?25hRequirement already satisfied: numpy>=1.17 in /usr/local/lib/python3.10/dist-packages (from transformers) (1.23.5)\n",
            "Requirement already satisfied: packaging>=20.0 in /usr/local/lib/python3.10/dist-packages (from transformers) (23.1)\n",
            "Requirement already satisfied: pyyaml>=5.1 in /usr/local/lib/python3.10/dist-packages (from transformers) (6.0.1)\n",
            "Requirement already satisfied: regex!=2019.12.17 in /usr/local/lib/python3.10/dist-packages (from transformers) (2023.6.3)\n",
            "Requirement already satisfied: requests in /usr/local/lib/python3.10/dist-packages (from transformers) (2.31.0)\n",
            "Collecting tokenizers!=0.11.3,<0.14,>=0.11.1 (from transformers)\n",
            "  Downloading tokenizers-0.13.3-cp310-cp310-manylinux_2_17_x86_64.manylinux2014_x86_64.whl (7.8 MB)\n",
            "\u001b[2K     \u001b[90m━━━━━━━━━━━━━━━━━━━━━━━━━━━━━━━━━━━━━━━━\u001b[0m \u001b[32m7.8/7.8 MB\u001b[0m \u001b[31m106.9 MB/s\u001b[0m eta \u001b[36m0:00:00\u001b[0m\n",
            "\u001b[?25hCollecting safetensors>=0.3.1 (from transformers)\n",
            "  Downloading safetensors-0.3.3-cp310-cp310-manylinux_2_17_x86_64.manylinux2014_x86_64.whl (1.3 MB)\n",
            "\u001b[2K     \u001b[90m━━━━━━━━━━━━━━━━━━━━━━━━━━━━━━━━━━━━━━━━\u001b[0m \u001b[32m1.3/1.3 MB\u001b[0m \u001b[31m82.2 MB/s\u001b[0m eta \u001b[36m0:00:00\u001b[0m\n",
            "\u001b[?25hRequirement already satisfied: tqdm>=4.27 in /usr/local/lib/python3.10/dist-packages (from transformers) (4.66.1)\n",
            "Requirement already satisfied: typing-extensions in /usr/local/lib/python3.10/dist-packages (from torch) (4.5.0)\n",
            "Requirement already satisfied: sympy in /usr/local/lib/python3.10/dist-packages (from torch) (1.12)\n",
            "Requirement already satisfied: networkx in /usr/local/lib/python3.10/dist-packages (from torch) (3.1)\n",
            "Requirement already satisfied: jinja2 in /usr/local/lib/python3.10/dist-packages (from torch) (3.1.2)\n",
            "Requirement already satisfied: triton==2.0.0 in /usr/local/lib/python3.10/dist-packages (from torch) (2.0.0)\n",
            "Requirement already satisfied: cmake in /usr/local/lib/python3.10/dist-packages (from triton==2.0.0->torch) (3.27.4.1)\n",
            "Requirement already satisfied: lit in /usr/local/lib/python3.10/dist-packages (from triton==2.0.0->torch) (16.0.6)\n",
            "Requirement already satisfied: fsspec in /usr/local/lib/python3.10/dist-packages (from huggingface-hub<1.0,>=0.15.1->transformers) (2023.6.0)\n",
            "Requirement already satisfied: MarkupSafe>=2.0 in /usr/local/lib/python3.10/dist-packages (from jinja2->torch) (2.1.3)\n",
            "Requirement already satisfied: charset-normalizer<4,>=2 in /usr/local/lib/python3.10/dist-packages (from requests->transformers) (3.2.0)\n",
            "Requirement already satisfied: idna<4,>=2.5 in /usr/local/lib/python3.10/dist-packages (from requests->transformers) (3.4)\n",
            "Requirement already satisfied: urllib3<3,>=1.21.1 in /usr/local/lib/python3.10/dist-packages (from requests->transformers) (2.0.4)\n",
            "Requirement already satisfied: certifi>=2017.4.17 in /usr/local/lib/python3.10/dist-packages (from requests->transformers) (2023.7.22)\n",
            "Requirement already satisfied: mpmath>=0.19 in /usr/local/lib/python3.10/dist-packages (from sympy->torch) (1.3.0)\n",
            "Installing collected packages: tokenizers, safetensors, huggingface-hub, transformers\n",
            "Successfully installed huggingface-hub-0.17.1 safetensors-0.3.3 tokenizers-0.13.3 transformers-4.33.2\n"
          ]
        }
      ],
      "source": [
        "!pip install transformers torch"
      ]
    },
    {
      "cell_type": "code",
      "execution_count": null,
      "metadata": {
        "id": "zffC4oJAElsC"
      },
      "outputs": [],
      "source": [
        "import torch\n",
        "from transformers import GPT2LMHeadModel, GPT2Tokenizer\n",
        "\n",
        "# Load pre-trained GPT-2 model and tokenizer\n",
        "model_name = \"gpt2\"  # You can also try \"gpt2-medium\", \"gpt2-large\", or \"gpt2-xl\" for larger models\n",
        "tokenizer = GPT2Tokenizer.from_pretrained(model_name)\n",
        "model = GPT2LMHeadModel.from_pretrained(model_name)\n",
        "\n",
        "# Set the model to evaluation mode (no training)\n",
        "model.eval()\n",
        "\n",
        "# Function to generate text\n",
        "def generate_text(prompt, max_length=50, temperature=0.7):\n",
        "    input_ids = tokenizer.encode(prompt, return_tensors=\"pt\")\n",
        "\n",
        "    print(\"INPUT=======\", input_ids)\n",
        "\n",
        "    # Generate text/number equivalents\n",
        "    output = model.generate(\n",
        "        input_ids,\n",
        "        max_length=max_length,\n",
        "        num_return_sequences=1,\n",
        "        no_repeat_ngram_size=2,\n",
        "        top_k=50,\n",
        "        top_p=0.95,\n",
        "        temperature=temperature,\n",
        "    )\n",
        "    print(\"OUTPUT======\", output)\n",
        "\n",
        "    # Decode and return generated text\n",
        "    generated_text = tokenizer.decode(output[0], skip_special_tokens=True)\n",
        "    return generated_text"
      ]
    },
    {
      "cell_type": "code",
      "source": [
        "# Generate text with a prompt\n",
        "prompt = \"Once upon a time\"\n",
        "generated_text = generate_text(prompt, max_length=100)\n",
        "print(generated_text)"
      ],
      "metadata": {
        "colab": {
          "base_uri": "https://localhost:8080/"
        },
        "id": "K1jrVLHbzXtI",
        "outputId": "0289bb79-525c-4f72-e46c-918db2c63d12"
      },
      "execution_count": null,
      "outputs": [
        {
          "output_type": "stream",
          "name": "stderr",
          "text": [
            "/usr/local/lib/python3.10/dist-packages/transformers/generation/configuration_utils.py:515: UserWarning: `do_sample` is set to `False`. However, `temperature` is set to `0.7` -- this flag is only used in sample-based generation modes. You should set `do_sample=True` or unset `temperature`.\n",
            "  warnings.warn(\n",
            "/usr/local/lib/python3.10/dist-packages/transformers/generation/configuration_utils.py:520: UserWarning: `do_sample` is set to `False`. However, `top_p` is set to `0.95` -- this flag is only used in sample-based generation modes. You should set `do_sample=True` or unset `top_p`.\n",
            "  warnings.warn(\n",
            "The attention mask and the pad token id were not set. As a consequence, you may observe unexpected behavior. Please pass your input's `attention_mask` to obtain reliable results.\n",
            "Setting `pad_token_id` to `eos_token_id`:50256 for open-end generation.\n"
          ]
        },
        {
          "output_type": "stream",
          "name": "stdout",
          "text": [
            "INPUT======= tensor([[7454, 2402,  257,  640]])\n",
            "OUTPUT====== tensor([[ 7454,  2402,   257,   640,    11,   262,   995,   373,   257,  1295,\n",
            "           286,  1049,  8737,   290,  1049,  3514,    13,   383,   995,   286,\n",
            "           262, 11858,   373,   262,  1295,   810,   262,  1049, 11858,   547,\n",
            "          4642,    11,   290,   810,   484,   547,   284,  2107,    13,   198,\n",
            "           198,   464,   995,   326,   373,  2727,   373,   407,   262,   976,\n",
            "           355,   262,   530,   326,   318,   783,    13,   632,   373,   281,\n",
            "         13079,    11, 13079,   995,    13,   843,   262, 15391,   547,   407,\n",
            "          4642,   286,  2147,    13,  1119,   547,  2727,   286,   257,  2060,\n",
            "            11,  2060,  1517,    13,  1320,   373,  1521,   262,  6881,   373,\n",
            "           523,  4950,    13,  4362,   262, 39385,   373,   925,   286,   734]])\n",
            "Once upon a time, the world was a place of great beauty and great danger. The world of the gods was the place where the great gods were born, and where they were to live.\n",
            "\n",
            "The world that was created was not the same as the one that is now. It was an endless, endless world. And the Gods were not born of nothing. They were created of a single, single thing. That was why the universe was so beautiful. Because the cosmos was made of two\n"
          ]
        }
      ]
    },
    {
      "cell_type": "code",
      "source": [],
      "metadata": {
        "id": "PdDzyBOHA8MJ"
      },
      "execution_count": null,
      "outputs": []
    }
  ],
  "metadata": {
    "colab": {
      "provenance": [],
      "include_colab_link": true
    },
    "kernelspec": {
      "display_name": "Python 3",
      "name": "python3"
    },
    "language_info": {
      "name": "python"
    }
  },
  "nbformat": 4,
  "nbformat_minor": 0
}